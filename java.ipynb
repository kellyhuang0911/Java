{
 "cells": [
  {
   "cell_type": "markdown",
   "metadata": {},
   "source": [
    "# Identifying Applications With Java Installed"
   ]
  },
  {
   "cell_type": "markdown",
   "metadata": {},
   "source": [
    "### Imports"
   ]
  },
  {
   "cell_type": "code",
   "execution_count": 97,
   "metadata": {},
   "outputs": [],
   "source": [
    "# Standard imports\n",
    "import numpy as np\n",
    "import pandas as pd\n",
    "import seaborn as sns\n",
    "import re\n",
    "import seaborn as sns\n",
    "import matplotlib.pyplot as plt\n",
    "import collections\n",
    "import warnings\n",
    "warnings.filterwarnings('ignore') # setting ignore as a parameter"
   ]
  },
  {
   "cell_type": "markdown",
   "metadata": {},
   "source": [
    "### Load Data"
   ]
  },
  {
   "cell_type": "code",
   "execution_count": 98,
   "metadata": {},
   "outputs": [
    {
     "data": {
      "text/html": [
       "<div>\n",
       "<style scoped>\n",
       "    .dataframe tbody tr th:only-of-type {\n",
       "        vertical-align: middle;\n",
       "    }\n",
       "\n",
       "    .dataframe tbody tr th {\n",
       "        vertical-align: top;\n",
       "    }\n",
       "\n",
       "    .dataframe thead th {\n",
       "        text-align: right;\n",
       "    }\n",
       "</style>\n",
       "<table border=\"1\" class=\"dataframe\">\n",
       "  <thead>\n",
       "    <tr style=\"text-align: right;\">\n",
       "      <th></th>\n",
       "      <th>number</th>\n",
       "      <th>name</th>\n",
       "      <th>u_tier_level</th>\n",
       "      <th>subcategory</th>\n",
       "      <th>u_functional_category</th>\n",
       "      <th>install_type</th>\n",
       "      <th>it_application_owner</th>\n",
       "      <th>owned_by</th>\n",
       "      <th>support_group</th>\n",
       "      <th>operational_status</th>\n",
       "      <th>install_status</th>\n",
       "      <th>u_it_group</th>\n",
       "      <th>application_category</th>\n",
       "      <th>u_storm_app</th>\n",
       "    </tr>\n",
       "  </thead>\n",
       "  <tbody>\n",
       "    <tr>\n",
       "      <th>0</th>\n",
       "      <td>APM0004100</td>\n",
       "      <td>3D Monicore - OT System</td>\n",
       "      <td>Business Supported</td>\n",
       "      <td>Nuclear</td>\n",
       "      <td>Nuclear</td>\n",
       "      <td>On Premise</td>\n",
       "      <td>Cassandra Billings</td>\n",
       "      <td>Christopher Niffenegger</td>\n",
       "      <td>NaN</td>\n",
       "      <td>Operational</td>\n",
       "      <td>In Production</td>\n",
       "      <td>Nuclear</td>\n",
       "      <td>NUCL: Nuclear</td>\n",
       "      <td>False</td>\n",
       "    </tr>\n",
       "    <tr>\n",
       "      <th>1</th>\n",
       "      <td>APM0002076</td>\n",
       "      <td>3DWINR OT</td>\n",
       "      <td>Business Supported</td>\n",
       "      <td>Nuclear</td>\n",
       "      <td>Nuclear</td>\n",
       "      <td>On Premise</td>\n",
       "      <td>Victor Keyes</td>\n",
       "      <td>Roosevelt Holmes</td>\n",
       "      <td>CSG GGNS</td>\n",
       "      <td>Operational</td>\n",
       "      <td>In Production</td>\n",
       "      <td>Nuclear</td>\n",
       "      <td>NUCL: Nuclear</td>\n",
       "      <td>False</td>\n",
       "    </tr>\n",
       "    <tr>\n",
       "      <th>2</th>\n",
       "      <td>APM0002568</td>\n",
       "      <td>ABMR - AUTOMATED BULK MAIL ROUTING</td>\n",
       "      <td>Tier 2</td>\n",
       "      <td>Customer Care</td>\n",
       "      <td>Utility</td>\n",
       "      <td>On Premise</td>\n",
       "      <td>Cecilia Shelton</td>\n",
       "      <td>Chrissoula Ratner</td>\n",
       "      <td>ABMR SUPPORT</td>\n",
       "      <td>Operational</td>\n",
       "      <td>In Production</td>\n",
       "      <td>Utility Customer Service</td>\n",
       "      <td>UCS: Utility Customer Service</td>\n",
       "      <td>False</td>\n",
       "    </tr>\n",
       "    <tr>\n",
       "      <th>3</th>\n",
       "      <td>APM0003713</td>\n",
       "      <td>Acadia</td>\n",
       "      <td>Tier 3</td>\n",
       "      <td>Nuclear</td>\n",
       "      <td>Nuclear</td>\n",
       "      <td>On Premise</td>\n",
       "      <td>Ryan Cope</td>\n",
       "      <td>Rodney Bateman</td>\n",
       "      <td>NUCLEAR SUPPORT</td>\n",
       "      <td>Operational</td>\n",
       "      <td>In Production</td>\n",
       "      <td>Nuclear</td>\n",
       "      <td>NUCL: Nuclear</td>\n",
       "      <td>False</td>\n",
       "    </tr>\n",
       "    <tr>\n",
       "      <th>4</th>\n",
       "      <td>APM0004103</td>\n",
       "      <td>ACCESS</td>\n",
       "      <td>Tier 3</td>\n",
       "      <td>Software</td>\n",
       "      <td>CBS</td>\n",
       "      <td>On Premise</td>\n",
       "      <td>Vincent Melerine</td>\n",
       "      <td>Linda Pessin</td>\n",
       "      <td>Atos.L1.Service.Desk</td>\n",
       "      <td>Operational</td>\n",
       "      <td>In Production</td>\n",
       "      <td>Workplace Computing</td>\n",
       "      <td>IT: Workplace Computing</td>\n",
       "      <td>False</td>\n",
       "    </tr>\n",
       "  </tbody>\n",
       "</table>\n",
       "</div>"
      ],
      "text/plain": [
       "       number                                name        u_tier_level  \\\n",
       "0  APM0004100             3D Monicore - OT System  Business Supported   \n",
       "1  APM0002076                           3DWINR OT  Business Supported   \n",
       "2  APM0002568  ABMR - AUTOMATED BULK MAIL ROUTING              Tier 2   \n",
       "3  APM0003713                              Acadia              Tier 3   \n",
       "4  APM0004103                              ACCESS              Tier 3   \n",
       "\n",
       "     subcategory u_functional_category install_type it_application_owner  \\\n",
       "0        Nuclear               Nuclear   On Premise   Cassandra Billings   \n",
       "1        Nuclear               Nuclear   On Premise         Victor Keyes   \n",
       "2  Customer Care               Utility   On Premise      Cecilia Shelton   \n",
       "3        Nuclear               Nuclear   On Premise            Ryan Cope   \n",
       "4       Software                   CBS   On Premise     Vincent Melerine   \n",
       "\n",
       "                  owned_by         support_group operational_status  \\\n",
       "0  Christopher Niffenegger                   NaN        Operational   \n",
       "1         Roosevelt Holmes              CSG GGNS        Operational   \n",
       "2        Chrissoula Ratner          ABMR SUPPORT        Operational   \n",
       "3           Rodney Bateman       NUCLEAR SUPPORT        Operational   \n",
       "4             Linda Pessin  Atos.L1.Service.Desk        Operational   \n",
       "\n",
       "  install_status                u_it_group           application_category  \\\n",
       "0  In Production                   Nuclear                  NUCL: Nuclear   \n",
       "1  In Production                   Nuclear                  NUCL: Nuclear   \n",
       "2  In Production  Utility Customer Service  UCS: Utility Customer Service   \n",
       "3  In Production                   Nuclear                  NUCL: Nuclear   \n",
       "4  In Production       Workplace Computing        IT: Workplace Computing   \n",
       "\n",
       "   u_storm_app  \n",
       "0        False  \n",
       "1        False  \n",
       "2        False  \n",
       "3        False  \n",
       "4        False  "
      ]
     },
     "execution_count": 98,
     "metadata": {},
     "output_type": "execute_result"
    }
   ],
   "source": [
    "df = pd.read_excel('cmdb apps.xlsx', 'Business Applications')\n",
    "df.columns = df.columns.str.replace(' ', '_')\n",
    "df.columns = df.columns.str.lower()\n",
    "df.head(5)"
   ]
  },
  {
   "attachments": {},
   "cell_type": "markdown",
   "metadata": {},
   "source": [
    "### Create Application List"
   ]
  },
  {
   "cell_type": "code",
   "execution_count": 99,
   "metadata": {},
   "outputs": [],
   "source": [
    "apps = df[[\"name\"]]\n",
    "apps[\"name\"] = apps[\"name\"].str.lower()\n",
    "apps[\"name\"] = apps[\"name\"].str.replace('[^\\w\\s]','')\n",
    "app_list = apps[\"name\"].tolist()\n",
    "app_list.extend([\"ibm\", \"infa\", \"openshift\", \"elasticsearch\", \"documentum\", \"dctm\", \"snow\", \"informatica\", \"opentext\", \"tibcodv\", \"jfrog\", \"taxware\", \"eclipse adoptium\", \"sas\",\n",
    "                 \"datacert\"])"
   ]
  },
  {
   "cell_type": "code",
   "execution_count": 100,
   "metadata": {},
   "outputs": [
    {
     "data": {
      "text/html": [
       "<div>\n",
       "<style scoped>\n",
       "    .dataframe tbody tr th:only-of-type {\n",
       "        vertical-align: middle;\n",
       "    }\n",
       "\n",
       "    .dataframe tbody tr th {\n",
       "        vertical-align: top;\n",
       "    }\n",
       "\n",
       "    .dataframe thead th {\n",
       "        text-align: right;\n",
       "    }\n",
       "</style>\n",
       "<table border=\"1\" class=\"dataframe\">\n",
       "  <thead>\n",
       "    <tr style=\"text-align: right;\">\n",
       "      <th></th>\n",
       "      <th>computer</th>\n",
       "      <th>command</th>\n",
       "    </tr>\n",
       "  </thead>\n",
       "  <tbody>\n",
       "    <tr>\n",
       "      <th>0</th>\n",
       "      <td>jdcupcdhdw301</td>\n",
       "      <td>./infa_rpm.tar/jre/bin/java</td>\n",
       "    </tr>\n",
       "    <tr>\n",
       "      <th>1</th>\n",
       "      <td>jdcupcdhdw302</td>\n",
       "      <td>./infa_rpm.tar/jre/bin/java</td>\n",
       "    </tr>\n",
       "    <tr>\n",
       "      <th>2</th>\n",
       "      <td>jdcupcdhdw303</td>\n",
       "      <td>./infa_rpm.tar/jre/bin/java</td>\n",
       "    </tr>\n",
       "    <tr>\n",
       "      <th>3</th>\n",
       "      <td>jdcupcdhdw304</td>\n",
       "      <td>./infa_rpm.tar/jre/bin/java</td>\n",
       "    </tr>\n",
       "    <tr>\n",
       "      <th>4</th>\n",
       "      <td>jdcupcdhdw305</td>\n",
       "      <td>./infa_rpm.tar/jre/bin/java</td>\n",
       "    </tr>\n",
       "  </tbody>\n",
       "</table>\n",
       "</div>"
      ],
      "text/plain": [
       "        computer                      command\n",
       "0  jdcupcdhdw301  ./infa_rpm.tar/jre/bin/java\n",
       "1  jdcupcdhdw302  ./infa_rpm.tar/jre/bin/java\n",
       "2  jdcupcdhdw303  ./infa_rpm.tar/jre/bin/java\n",
       "3  jdcupcdhdw304  ./infa_rpm.tar/jre/bin/java\n",
       "4  jdcupcdhdw305  ./infa_rpm.tar/jre/bin/java"
      ]
     },
     "execution_count": 100,
     "metadata": {},
     "output_type": "execute_result"
    }
   ],
   "source": [
    "command_df = pd.read_excel(\"Kelly List of Servers.xlsx\", \"command\")\n",
    "command_df.columns = command_df.columns.str.lower()\n",
    "command_df.head(5)"
   ]
  },
  {
   "attachments": {},
   "cell_type": "markdown",
   "metadata": {},
   "source": [
    "### Create Commands Data "
   ]
  },
  {
   "cell_type": "code",
   "execution_count": 101,
   "metadata": {},
   "outputs": [],
   "source": [
    "command_df = pd.read_excel(\"cmdb_java.xlsx\", \"server_list\")\n",
    "commanddf = command_df\n",
    "command_df.columns = command_df.columns.str.lower()\n",
    "commanddf[\"command\"] = commanddf[\"command\"].str.lstrip(\"./\")\n",
    "commanddf[\"command\"] = commanddf[\"command\"].str.lower()\n",
    "commanddf[\"command\"] = commanddf['command'].apply(lambda s: s.split(\"/\") if \"/\" in s else s.split(\"\\\\\"))\n",
    "commanddf[\"command\"] = commanddf['command'].apply(lambda x: [s for s in x if s not in [\"app\", \"apps\",\"\", \"local\", \"home\", \"opt\", \"etc\", \"bin\"]])\n",
    "commanddf[\"command\"] = commanddf['command'].apply(lambda x: [s for s in x if s in [\"arc\", \"b2b\", \"cmd\", \"dis\", \"hsm\", \"ivr\", \"mig\", \"pds\", \"sar\", \"ibm\"] or len(s) > 3])\n",
    "commanddf = commanddf.groupby([\"computer\"]).sum()['command'].apply(lambda x: list(set(x))).reset_index()\n"
   ]
  },
  {
   "cell_type": "code",
   "execution_count": 102,
   "metadata": {},
   "outputs": [],
   "source": [
    "command_df = pd.read_excel(\"cmdb_java.xlsx\", \"server_list\")"
   ]
  },
  {
   "attachments": {},
   "cell_type": "markdown",
   "metadata": {},
   "source": [
    "### Finding Applications"
   ]
  },
  {
   "cell_type": "code",
   "execution_count": 103,
   "metadata": {},
   "outputs": [],
   "source": [
    "import difflib\n",
    "from nltk.stem import PorterStemmer\n",
    "\n",
    "def is_java(s, found_apps):\n",
    "    if \"oracle java\" not in found_apps and \"zingjava\" not in s:\n",
    "        return any([x in s for x in (\"java\", \"oracle\", \"oraoem\")])\n",
    "\n",
    "\n",
    "def is_prefix_similarity(str1, str2, app_stem, found_apps):\n",
    "    if app_stem in found_apps: return False\n",
    "    if \" \" in app_stem: return False\n",
    "    if len(str1) < len(str2): return str2.startswith(str1)\n",
    "    if len(str2) < len(str1): return str1.startswith(str2)\n",
    "    if len(str1) < len(str2): return str1 in str2\n",
    "    if len(str2) < len(str1): return str2 in str1\n",
    "\n",
    "def find_applications(command, applications):\n",
    "    found_apps = []\n",
    "    not_found_apps = []\n",
    "\n",
    "    stemmer = PorterStemmer()\n",
    "\n",
    "    for cmd in command:\n",
    "        matched = False \n",
    "        cmd_stem = stemmer.stem(cmd)\n",
    "        cmd_alpha = re.sub(r\"\\W+\", \"\", cmd)\n",
    "\n",
    "        if is_java(cmd_alpha, found_apps):\n",
    "            found_apps.append(\"oracle java\")\n",
    "            continue\n",
    "\n",
    "        for app in applications:\n",
    "            app_stem = stemmer.stem(app)\n",
    "            app_alpha = re.sub(r\"\\W+\", \"\", app_stem)\n",
    "            \n",
    "            if cmd_stem == app_stem:\n",
    "                if app not in found_apps:\n",
    "                    found_apps.append(app)\n",
    "                    matched = True\n",
    "                    break\n",
    "                else:\n",
    "                    break\n",
    "            else:\n",
    "                if (\" \" not in app_stem and app not in found_apps and difflib.SequenceMatcher(None, cmd_alpha, app_alpha).ratio() > 0.9) or is_prefix_similarity(cmd_alpha, app_alpha, app_stem, found_apps):\n",
    "                    found_apps.append(app)\n",
    "                    matched = True\n",
    "                    break\n",
    "        if not matched:\n",
    "            not_found_apps.append(cmd)\n",
    "\n",
    "    return found_apps, not_found_apps\n",
    "\n",
    "commanddf[['Found Applications', 'Not Found']] = commanddf.apply(lambda row: pd.Series(find_applications(row['command'], app_list)), axis=1)\n",
    "commanddf['Found Applications'] = [list(set(name)) for name in commanddf[\"Found Applications\"]]\n",
    "\n",
    "for i in range(len(commanddf[\"Found Applications\"])):\n",
    "    if len(commanddf[\"Found Applications\"][i]) > 1 and \"oracle java\" in commanddf[\"Found Applications\"][i]:\n",
    "        commanddf[\"Found Applications\"][i].remove(\"oracle java\")\n",
    "\n"
   ]
  },
  {
   "cell_type": "markdown",
   "metadata": {},
   "source": [
    "### Data Trends"
   ]
  },
  {
   "cell_type": "code",
   "execution_count": 104,
   "metadata": {},
   "outputs": [],
   "source": [
    "java = pd.read_excel('Active VITS Java Servers 20230710.xlsx', 'Active Java VITS Server List')\n",
    "java = java.drop(columns = [], axis = 1)\n",
    "\n",
    "java[\"VIT Proof Data\"] = java[\"VIT Proof Data\"].apply(lambda x: \"\" if pd.isnull(x) else x)\n",
    "java[\"CMDB Running Processes\"] = java[\"CMDB Running Processes\"].apply(lambda x: \"\" if pd.isnull(x) else x)\n",
    "\n",
    "# Finds whatever is in CMDB Running Processes that is not in VIT Proof Data\n",
    "z = lambda x: set(x[\"CMDB Running Processes\"].split(\",\")).difference(set(x[\"VIT Proof Data\"].split(\",\")))\n",
    "java['Difference'] = java.apply(z, axis=1)\n",
    "\n",
    "java[\"Difference\"] = java[\"Difference\"].apply(lambda x: set() if \"None\" in x else x)"
   ]
  },
  {
   "cell_type": "markdown",
   "metadata": {},
   "source": [
    "### VIT Proof Data and Active VITS Counts"
   ]
  },
  {
   "cell_type": "code",
   "execution_count": 105,
   "metadata": {},
   "outputs": [
    {
     "data": {
      "text/html": [
       "<div>\n",
       "<style scoped>\n",
       "    .dataframe tbody tr th:only-of-type {\n",
       "        vertical-align: middle;\n",
       "    }\n",
       "\n",
       "    .dataframe tbody tr th {\n",
       "        vertical-align: top;\n",
       "    }\n",
       "\n",
       "    .dataframe thead th {\n",
       "        text-align: right;\n",
       "    }\n",
       "</style>\n",
       "<table border=\"1\" class=\"dataframe\">\n",
       "  <thead>\n",
       "    <tr style=\"text-align: right;\">\n",
       "      <th></th>\n",
       "      <th>Active VITS</th>\n",
       "    </tr>\n",
       "    <tr>\n",
       "      <th>VIT Proof Data</th>\n",
       "      <th></th>\n",
       "    </tr>\n",
       "  </thead>\n",
       "  <tbody>\n",
       "    <tr>\n",
       "      <th>Oracle Java</th>\n",
       "      <td>243</td>\n",
       "    </tr>\n",
       "    <tr>\n",
       "      <th>Tripwire</th>\n",
       "      <td>188</td>\n",
       "    </tr>\n",
       "    <tr>\n",
       "      <th>TIBCO</th>\n",
       "      <td>163</td>\n",
       "    </tr>\n",
       "    <tr>\n",
       "      <th>Oracle Java, Tripwire</th>\n",
       "      <td>128</td>\n",
       "    </tr>\n",
       "    <tr>\n",
       "      <th>Tripwire, TIBCO</th>\n",
       "      <td>91</td>\n",
       "    </tr>\n",
       "  </tbody>\n",
       "</table>\n",
       "</div>"
      ],
      "text/plain": [
       "                       Active VITS\n",
       "VIT Proof Data                    \n",
       "Oracle Java                    243\n",
       "Tripwire                       188\n",
       "TIBCO                          163\n",
       "Oracle Java, Tripwire          128\n",
       "Tripwire, TIBCO                 91"
      ]
     },
     "execution_count": 105,
     "metadata": {},
     "output_type": "execute_result"
    }
   ],
   "source": [
    "# Count VIT Proof Data and Active VITS and sort Counts descending, display top 5\n",
    "java.groupby(\"VIT Proof Data\")[[\"Active VITS\"]].count().sort_values([\"Active VITS\"], ascending = False)[0:5]"
   ]
  },
  {
   "cell_type": "markdown",
   "metadata": {},
   "source": [
    "### Tripwire and Active VITS Counts"
   ]
  },
  {
   "cell_type": "code",
   "execution_count": 106,
   "metadata": {},
   "outputs": [
    {
     "data": {
      "text/html": [
       "<div>\n",
       "<style scoped>\n",
       "    .dataframe tbody tr th:only-of-type {\n",
       "        vertical-align: middle;\n",
       "    }\n",
       "\n",
       "    .dataframe tbody tr th {\n",
       "        vertical-align: top;\n",
       "    }\n",
       "\n",
       "    .dataframe thead th {\n",
       "        text-align: right;\n",
       "    }\n",
       "</style>\n",
       "<table border=\"1\" class=\"dataframe\">\n",
       "  <thead>\n",
       "    <tr style=\"text-align: right;\">\n",
       "      <th></th>\n",
       "      <th>Active VITS</th>\n",
       "    </tr>\n",
       "    <tr>\n",
       "      <th>Tripwire Java Removed</th>\n",
       "      <th></th>\n",
       "    </tr>\n",
       "  </thead>\n",
       "  <tbody>\n",
       "    <tr>\n",
       "      <th>False</th>\n",
       "      <td>614</td>\n",
       "    </tr>\n",
       "    <tr>\n",
       "      <th>True</th>\n",
       "      <td>468</td>\n",
       "    </tr>\n",
       "  </tbody>\n",
       "</table>\n",
       "</div>"
      ],
      "text/plain": [
       "                       Active VITS\n",
       "Tripwire Java Removed             \n",
       "False                          614\n",
       "True                           468"
      ]
     },
     "execution_count": 106,
     "metadata": {},
     "output_type": "execute_result"
    }
   ],
   "source": [
    "java.groupby(\"Tripwire Java Removed\")[[\"Active VITS\"]].count().sort_values([\"Active VITS\"], ascending = False)"
   ]
  },
  {
   "cell_type": "markdown",
   "metadata": {},
   "source": [
    "### Server and Tripwire Java Removed Counts"
   ]
  },
  {
   "cell_type": "code",
   "execution_count": 107,
   "metadata": {},
   "outputs": [
    {
     "data": {
      "text/html": [
       "<div>\n",
       "<style scoped>\n",
       "    .dataframe tbody tr th:only-of-type {\n",
       "        vertical-align: middle;\n",
       "    }\n",
       "\n",
       "    .dataframe tbody tr th {\n",
       "        vertical-align: top;\n",
       "    }\n",
       "\n",
       "    .dataframe thead th {\n",
       "        text-align: right;\n",
       "    }\n",
       "</style>\n",
       "<table border=\"1\" class=\"dataframe\">\n",
       "  <thead>\n",
       "    <tr style=\"text-align: right;\">\n",
       "      <th></th>\n",
       "      <th>Server Present</th>\n",
       "      <th>Tripwire Java Removed</th>\n",
       "      <th>Counts</th>\n",
       "    </tr>\n",
       "  </thead>\n",
       "  <tbody>\n",
       "    <tr>\n",
       "      <th>0</th>\n",
       "      <td>False</td>\n",
       "      <td>True</td>\n",
       "      <td>273</td>\n",
       "    </tr>\n",
       "    <tr>\n",
       "      <th>1</th>\n",
       "      <td>False</td>\n",
       "      <td>False</td>\n",
       "      <td>192</td>\n",
       "    </tr>\n",
       "    <tr>\n",
       "      <th>2</th>\n",
       "      <td>True</td>\n",
       "      <td>False</td>\n",
       "      <td>422</td>\n",
       "    </tr>\n",
       "    <tr>\n",
       "      <th>3</th>\n",
       "      <td>True</td>\n",
       "      <td>True</td>\n",
       "      <td>195</td>\n",
       "    </tr>\n",
       "  </tbody>\n",
       "</table>\n",
       "</div>"
      ],
      "text/plain": [
       "   Server Present  Tripwire Java Removed  Counts\n",
       "0           False                   True     273\n",
       "1           False                  False     192\n",
       "2            True                  False     422\n",
       "3            True                   True     195"
      ]
     },
     "execution_count": 107,
     "metadata": {},
     "output_type": "execute_result"
    }
   ],
   "source": [
    "# Server Present and Tripwire Java Removed Counts\n",
    "java.groupby([\"Server Present\"])[\"Tripwire Java Removed\"].value_counts().reset_index(name = \"Counts\")"
   ]
  },
  {
   "cell_type": "markdown",
   "metadata": {},
   "source": [
    "### Top Active VITS"
   ]
  },
  {
   "cell_type": "code",
   "execution_count": 108,
   "metadata": {},
   "outputs": [],
   "source": [
    "# Sort active VITS by decreasing order and look at server name and VIT Proof Data\n",
    "active_vits = java.sort_values([\"Active VITS\"], ascending = False)\n",
    "active_vits_sub = active_vits[[\"Server Name\", \"CMDB Running Processes\", \"VIT Proof Data\", \"Tripwire Java Removed\", \"Active VITS\"]]"
   ]
  },
  {
   "cell_type": "markdown",
   "metadata": {},
   "source": [
    "### Inactive VITS = 0"
   ]
  },
  {
   "cell_type": "code",
   "execution_count": 109,
   "metadata": {},
   "outputs": [],
   "source": [
    "# Filter for Inactive VITS = 0\n",
    "# Notes: All server_present is false except for 1 true. All VIT Proof Data is Oracle Java only except for one Tripwire and one BMC Patrol\n",
    "Inactive_vits_0 = java[java[\"Inactive VITS\"] == 0]\n",
    "Inactive_vits_0 = Inactive_vits_0.drop([\"CMDB CI Application List\", \"Java Licensable Products\", \"Bundled Java Products\", \"Non-Oracle Java Products\"], axis = 1)"
   ]
  },
  {
   "cell_type": "markdown",
   "metadata": {},
   "source": [
    "### Mean Active VITS for Server Present"
   ]
  },
  {
   "cell_type": "code",
   "execution_count": 110,
   "metadata": {},
   "outputs": [
    {
     "data": {
      "text/html": [
       "<div>\n",
       "<style scoped>\n",
       "    .dataframe tbody tr th:only-of-type {\n",
       "        vertical-align: middle;\n",
       "    }\n",
       "\n",
       "    .dataframe tbody tr th {\n",
       "        vertical-align: top;\n",
       "    }\n",
       "\n",
       "    .dataframe thead th {\n",
       "        text-align: right;\n",
       "    }\n",
       "</style>\n",
       "<table border=\"1\" class=\"dataframe\">\n",
       "  <thead>\n",
       "    <tr style=\"text-align: right;\">\n",
       "      <th></th>\n",
       "      <th>Server Present</th>\n",
       "      <th>Mean Active VITS</th>\n",
       "    </tr>\n",
       "  </thead>\n",
       "  <tbody>\n",
       "    <tr>\n",
       "      <th>0</th>\n",
       "      <td>False</td>\n",
       "      <td>14.550538</td>\n",
       "    </tr>\n",
       "    <tr>\n",
       "      <th>1</th>\n",
       "      <td>True</td>\n",
       "      <td>24.278768</td>\n",
       "    </tr>\n",
       "  </tbody>\n",
       "</table>\n",
       "</div>"
      ],
      "text/plain": [
       "   Server Present  Mean Active VITS\n",
       "0           False         14.550538\n",
       "1            True         24.278768"
      ]
     },
     "execution_count": 110,
     "metadata": {},
     "output_type": "execute_result"
    }
   ],
   "source": [
    "# Find average Active VITS for Server Present True vs. False\n",
    "java.groupby(\"Server Present\").agg({\"Active VITS\": \"mean\"}).rename(columns = {\"Active VITS\": \"Mean Active VITS\"}).reset_index()"
   ]
  },
  {
   "cell_type": "markdown",
   "metadata": {},
   "source": [
    "### Linear Regression"
   ]
  },
  {
   "cell_type": "code",
   "execution_count": 111,
   "metadata": {},
   "outputs": [
    {
     "name": "stdout",
     "output_type": "stream",
     "text": [
      "Model MSE: 121.12672294773454\n",
      "Model r^2: 0.16070394023663348\n",
      "Model Baseline MSE: 144.31942285286712\n",
      "Model Baseline r^2: 0.0\n"
     ]
    }
   ],
   "source": [
    "from sklearn.linear_model import LinearRegression\n",
    "from sklearn.preprocessing import OneHotEncoder, OrdinalEncoder\n",
    "from sklearn.metrics import mean_squared_error\n",
    "from sklearn.metrics import r2_score\n",
    "\n",
    "data = OneHotEncoder().fit_transform(java[[\"Server Present\"]].values).toarray()\n",
    "target = java[[\"Active VITS\"]].values\n",
    "\n",
    "linear_model = LinearRegression().fit(X = data, y = target)\n",
    "predicted = linear_model.predict(data)\n",
    "mse = mean_squared_error(target, predicted)\n",
    "r2 = r2_score(target, predicted)\n",
    "\n",
    "mean_active_vits = np.mean(java[\"Active VITS\"])\n",
    "baseline = np.full(predicted.shape, mean_active_vits)\n",
    "mse_baseline = mean_squared_error(target, baseline)\n",
    "r2_baseline = r2_score(target, baseline)\n",
    "\n",
    "print(\"Model MSE:\", mse)\n",
    "print(\"Model r^2:\", r2)\n",
    "print(\"Model Baseline MSE:\", mse_baseline)\n",
    "print(\"Model Baseline r^2:\", r2_baseline)"
   ]
  },
  {
   "cell_type": "markdown",
   "metadata": {},
   "source": [
    "#### Linear Regression Analysis\n",
    "\n",
    "Some evidence of a correlation between whether the server was present in the KPMG 2021/2022 Study and the number of Active VITS.\n",
    "$R^2 = 0.16$ indicates a weak correlation."
   ]
  },
  {
   "cell_type": "markdown",
   "metadata": {},
   "source": [
    "### Java Graphs"
   ]
  },
  {
   "cell_type": "code",
   "execution_count": 112,
   "metadata": {},
   "outputs": [],
   "source": [
    "java1 = pd.read_excel('Active VITS Java Servers 20230710.xlsx', 'Active Java VITS Server List')\n",
    "java = java1[[\"Server Name\", \"VIT Proof Data\"]]\n",
    "java = java.drop(columns = [], axis = 1)\n",
    "java = java.drop_duplicates()\n",
    "java = java.drop([808])"
   ]
  },
  {
   "cell_type": "code",
   "execution_count": 113,
   "metadata": {},
   "outputs": [],
   "source": [
    "java[\"VIT Proof Data\"] = java[\"VIT Proof Data\"].apply(lambda x: \"\" if pd.isnull(x) else x)\n",
    "java[\"VIT Proof Data\"] = java[\"VIT Proof Data\"].apply(lambda x: x.replace(\"SmartrBear\", \"SmartBear\").replace(\"Open Text\", \"OpenText\").replace(\"Opentext\", \"OpenText\").replace(\"Oracle java\", \"Oracle Java\"))\n",
    "\n",
    "\n",
    "final_set = []\n",
    "for row in java[\"VIT Proof Data\"]:\n",
    "    final_set += row.split(\",\")\n",
    "\n",
    "for el in java[\"VIT Proof Data\"]:\n",
    "    if el == \"\":\n",
    "        final_set.remove(el)\n",
    "    if el == \" \":\n",
    "        final_set.remove(el)\n",
    "\n",
    "for idx, el in enumerate(final_set):\n",
    "     final_set[idx]= el.lstrip().rstrip()\n",
    "\n",
    "final_list = final_set\n",
    "final_set = set(final_list)"
   ]
  },
  {
   "cell_type": "markdown",
   "metadata": {},
   "source": [
    "#### Top 5 Applications With Java Most Counts"
   ]
  },
  {
   "cell_type": "code",
   "execution_count": 114,
   "metadata": {},
   "outputs": [],
   "source": [
    "counts_dic = collections.Counter(final_list)\n",
    "\n",
    "counts_df = pd.DataFrame([[key,value] for key,value in counts_dic.items()],\n",
    "     columns=[\"App\",\"Counts\"])"
   ]
  },
  {
   "cell_type": "code",
   "execution_count": 115,
   "metadata": {},
   "outputs": [
    {
     "data": {
      "image/png": "[encoded data removed]",
      "text/plain": [
       "<Figure size 900x700 with 1 Axes>"
      ]
     },
     "metadata": {},
     "output_type": "display_data"
    }
   ],
   "source": [
    "bar_df = counts_df.sort_values(by = \"Counts\", ascending = False)\n",
    "bar_df = bar_df.head(5)\n",
    "plt.figure(figsize = (9, 7))\n",
    "plt.title(\"Top 5 Applications With the Most Counts\", fontsize = 20, pad = 30)\n",
    "plt.xlabel(\"Application\", size = 14, labelpad = 20)\n",
    "plt.ylabel(\"Counts\", size = 14, labelpad = 30)\n",
    "colors = [\"#EA3B5C\", \"#C4348C\", \"#B232A3\", \"#8F2ED4\", \"#762DF5\"]\n",
    "# Set your custom color palette\n",
    "sns.set_palette(sns.color_palette(colors))\n",
    "ax = sns.barplot(x = \"App\", y = \"Counts\", data = bar_df)\n",
    "ax.bar_label(ax.containers[0])\n",
    "\n",
    "plt.savefig('seaborn1.png', \n",
    "           transparent=True)\n",
    "\n",
    "plt.show()"
   ]
  },
  {
   "cell_type": "markdown",
   "metadata": {},
   "source": [
    "#### Top 5 Assignment Groups With Most Counts of Servers With Java Installs NOT Running"
   ]
  },
  {
   "cell_type": "code",
   "execution_count": 116,
   "metadata": {},
   "outputs": [],
   "source": [
    "java_none = java1[java1[\"CMDB Running Processes\"] == \"None\"]\n",
    "java_none.columns = java_none.columns.str.replace(' ', '_')\n",
    "java_none[\"VIT_Assignment_Groups\"] = java_none[\"VIT_Assignment_Groups\"].apply(lambda x: x.split(\" / \"))\n",
    "java_none = java_none[[\"Server_Name\", \"VIT_Assignment_Groups\"]]\n",
    "test = java_none.head(10)\n",
    "\n",
    "vals = java_none.VIT_Assignment_Groups.values.tolist()    \n",
    "rs = [len(r) for r in vals]    \n",
    "Server_Name = np.repeat(java_none.Server_Name, rs)\n",
    "\n",
    "java_none = pd.DataFrame(np.column_stack((Server_Name, np.concatenate(vals))), columns= java_none.columns)\n",
    "java_none_support = java_none[\"VIT_Assignment_Groups\"].value_counts().reset_index(name = \"Counts\").head(6)\n",
    "java_none_support.rename(columns = {'index':'Group'}, inplace = True)\n",
    "java_none_support = java_none_support.drop(labels=0, axis=0)"
   ]
  },
  {
   "cell_type": "code",
   "execution_count": 117,
   "metadata": {},
   "outputs": [
    {
     "data": {
      "image/png": "[encoded data removed]",
      "text/plain": [
       "<Figure size 1000x700 with 1 Axes>"
      ]
     },
     "metadata": {},
     "output_type": "display_data"
    }
   ],
   "source": [
    "plt.figure(figsize = (10, 7))\n",
    "plt.title(\"Top 5 Assigment Groups With Most Counts of Servers\\nWith Java Installs Not Running\", fontsize = 15, pad = 30)\n",
    "ax1 = sns.barplot(x = \"Counts\", y = \"Group\", data = java_none_support)\n",
    "plt.xlabel(\"Counts\", size = 14, labelpad = 20)\n",
    "plt.ylabel(\"Assignment Group\", size = 14, labelpad = 16)\n",
    "plt.xticks(fontsize=13)\n",
    "plt.yticks(fontsize=11)\n",
    "ax1.bar_label(ax1.containers[0], size = 13)\n",
    "\n",
    "plt.savefig('assignment_groups.png', \n",
    "           transparent=True, bbox_inches='tight')\n",
    "\n",
    "plt.show()"
   ]
  },
  {
   "cell_type": "markdown",
   "metadata": {},
   "source": [
    "#### Top 5 Servers With Java Installs Not Running"
   ]
  },
  {
   "cell_type": "code",
   "execution_count": 118,
   "metadata": {},
   "outputs": [],
   "source": [
    "java_none_servers = java_none[\"Server_Name\"].value_counts().reset_index(name = \"Counts\").head(5)\n",
    "java_none_servers.rename(columns = {'index':'Server'}, inplace = True)"
   ]
  },
  {
   "cell_type": "code",
   "execution_count": 119,
   "metadata": {},
   "outputs": [
    {
     "data": {
      "image/png": "[encoded data removed]",
      "text/plain": [
       "<Figure size 1500x700 with 1 Axes>"
      ]
     },
     "metadata": {},
     "output_type": "display_data"
    }
   ],
   "source": [
    "plt.figure(figsize = (15, 7))\n",
    "plt.title(\"Top 5 Servers With Java Installs Not Running\", fontsize = 20, pad = 30)\n",
    "plt.xlabel(\"Counts\", size = 14, labelpad = 20)\n",
    "plt.ylabel(\"Server\", size = 14, labelpad = 30)\n",
    "ax2 = sns.barplot(x = \"Counts\", y = \"Server\", data = java_none_servers)\n",
    "ax2.bar_label(ax2.containers[0])\n",
    "\n",
    "plt.savefig('assignment_groups.png', \n",
    "           transparent=True)\n",
    "\n",
    "plt.show()"
   ]
  }
 ],
 "metadata": {
  "kernelspec": {
   "display_name": "Python 3 (ipykernel)",
   "language": "python",
   "name": "python3"
  },
  "language_info": {
   "codemirror_mode": {
    "name": "ipython",
    "version": 3
   },
   "file_extension": ".py",
   "mimetype": "text/x-python",
   "name": "python",
   "nbconvert_exporter": "python",
   "pygments_lexer": "ipython3",
   "version": "3.10.9"
  },
  "orig_nbformat": 4
 },
 "nbformat": 4,
 "nbformat_minor": 2
}
